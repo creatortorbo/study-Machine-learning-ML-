{
 "cells": [
  {
   "cell_type": "markdown",
   "id": "dc13e43b-8227-4bf1-88b3-d16f321eee12",
   "metadata": {},
   "source": [
    "# here using the columnstransform"
   ]
  },
  {
   "cell_type": "code",
   "execution_count": 2,
   "id": "dec97c35-b8f7-4b1e-a800-6205edaa1aec",
   "metadata": {},
   "outputs": [],
   "source": [
    "import numpy as np\n",
    "import pandas as pd\n",
    "import mysql.connector\n",
    "from sklearn.preprocessing import SimpleImputer"
   ]
  },
  {
   "cell_type": "code",
   "execution_count": null,
   "id": "c3b555e1-f8b1-474d-906c-053398d54259",
   "metadata": {},
   "outputs": [],
   "source": [
    "conn = mysql.connector.connect(host = 'localhost',user = 'root',password = '',database = 'world')"
   ]
  },
  {
   "cell_type": "code",
   "execution_count": null,
   "id": "7c4a1b97-ede6-4df8-932e-8d2be9beebbe",
   "metadata": {},
   "outputs": [],
   "source": [
    "df = pd.read_sql_query(\"SELECT * FROM country\",conn)"
   ]
  }
 ],
 "metadata": {
  "kernelspec": {
   "display_name": "Python 3 (ipykernel)",
   "language": "python",
   "name": "python3"
  },
  "language_info": {
   "codemirror_mode": {
    "name": "ipython",
    "version": 3
   },
   "file_extension": ".py",
   "mimetype": "text/x-python",
   "name": "python",
   "nbconvert_exporter": "python",
   "pygments_lexer": "ipython3",
   "version": "3.11.5"
  }
 },
 "nbformat": 4,
 "nbformat_minor": 5
}

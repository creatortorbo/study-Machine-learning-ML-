{
 "cells": [
  {
   "cell_type": "markdown",
   "id": "096b8d54-6d16-4433-80e1-54c71879a299",
   "metadata": {},
   "source": [
    "Use This Way Of Training Machine Learning Models For Efficiency"
   ]
  },
  {
   "cell_type": "code",
   "execution_count": 4,
   "id": "a43e31c1-1286-474a-9a33-d67563a5065a",
   "metadata": {},
   "outputs": [],
   "source": [
    "# Importing specific classifiers from scikit-learn\n",
    "from sklearn.linear_model import LogisticRegression\n",
    "from sklearn.svm import SVC\n",
    "from sklearn.tree import DecisionTreeClassifier\n",
    "from sklearn.ensemble import RandomForestClassifier\n",
    "from sklearn.neighbors import KNeighborsClassifier\n",
    "from sklearn.naive_bayes import GaussianNB\n",
    "\n",
    "\n",
    "from sklearn.metrics import accuracy_score\n",
    "from sklearn.metrics import precision_score\n",
    "from sklearn.metrics import recall_score\n",
    "from sklearn.metrics import f1_score\n",
    "from sklearn.metrics import confusion_matrix\n",
    "from sklearn.metrics import classification_report\n"
   ]
  },
  {
   "cell_type": "code",
   "execution_count": 5,
   "id": "db7cbb2a-78f5-4405-9530-decb3b97c98c",
   "metadata": {},
   "outputs": [],
   "source": [
    "# Storing the classifiers in a dictionary\n",
    "models = {\n",
    "    'LogisticRegression': LogisticRegression,\n",
    "    'SVC': SVC,\n",
    "    'DecisionTreeClassifier': DecisionTreeClassifier,\n",
    "    'RandomForestClassifier': RandomForestClassifier,\n",
    "    'KNeighborsClassifier': KNeighborsClassifier,\n",
    "    'GaussianNB': GaussianNB\n",
    "}"
   ]
  },
  {
   "cell_type": "code",
   "execution_count": null,
   "id": "c04c81ff-288d-4fdd-ba39-d575383f0fff",
   "metadata": {},
   "outputs": [],
   "source": []
  }
 ],
 "metadata": {
  "kernelspec": {
   "display_name": "Python 3 (ipykernel)",
   "language": "python",
   "name": "python3"
  },
  "language_info": {
   "codemirror_mode": {
    "name": "ipython",
    "version": 3
   },
   "file_extension": ".py",
   "mimetype": "text/x-python",
   "name": "python",
   "nbconvert_exporter": "python",
   "pygments_lexer": "ipython3",
   "version": "3.12.3"
  }
 },
 "nbformat": 4,
 "nbformat_minor": 5
}

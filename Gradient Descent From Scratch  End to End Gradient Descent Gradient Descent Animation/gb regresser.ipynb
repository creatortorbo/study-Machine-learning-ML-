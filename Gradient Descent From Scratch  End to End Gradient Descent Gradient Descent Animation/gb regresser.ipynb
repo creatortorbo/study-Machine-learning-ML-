{
 "cells": [
  {
   "cell_type": "markdown",
   "id": "07a670a9-0d3a-4802-b2c9-5817600824a8",
   "metadata": {},
   "source": [
    "<br>\n",
    "creating the class to apply the GD\n"
   ]
  },
  {
   "cell_type": "code",
   "execution_count": 2,
   "id": "cfc82f98-7f77-4223-b626-ba6daa1d3d8f",
   "metadata": {},
   "outputs": [],
   "source": [
    "from sklearn.datasets import make_regression\n",
    "from matplotlib import pyplot as  plt\n",
    "import numpy as np"
   ]
  },
  {
   "cell_type": "code",
   "execution_count": 3,
   "id": "553d0f6f-3dc2-4405-8add-929af2ec5728",
   "metadata": {},
   "outputs": [],
   "source": [
    "x,y = make_regression(n_samples=100, n_features=1, n_informative=1, n_targets = 1,noise = 20)"
   ]
  },
  {
   "cell_type": "code",
   "execution_count": 5,
   "id": "e631db48-d46e-48d6-9a03-19a26fdd6da0",
   "metadata": {},
   "outputs": [
    {
     "data": {
      "text/plain": [
       "<matplotlib.collections.PathCollection at 0x2537e8187d0>"
      ]
     },
     "execution_count": 5,
     "metadata": {},
     "output_type": "execute_result"
    },
    {
     "data": {
      "image/png": "[encoded data removed]",
      "text/plain": [
       "<Figure size 640x480 with 1 Axes>"
      ]
     },
     "metadata": {},
     "output_type": "display_data"
    }
   ],
   "source": [
    "plt.scatter(x,y,color = 'r')"
   ]
  },
  {
   "cell_type": "code",
   "execution_count": 6,
   "id": "fd21399d-a1d6-4081-a715-c6de7a4b7e77",
   "metadata": {},
   "outputs": [],
   "source": [
    "from sklearn.linear_model import LinearRegression"
   ]
  },
  {
   "cell_type": "code",
   "execution_count": 7,
   "id": "f034d0fc-3cf9-4399-bb8b-0b2c15c7d1d0",
   "metadata": {},
   "outputs": [],
   "source": [
    "lr = LinearRegression()"
   ]
  },
  {
   "cell_type": "code",
   "execution_count": 8,
   "id": "22823f42-8033-4e22-9ca4-35b1a8b9fa75",
   "metadata": {},
   "outputs": [
    {
     "name": "stdout",
     "output_type": "stream",
     "text": [
      "[2.66577103]\n",
      "-4.474025183123713\n"
     ]
    }
   ],
   "source": [
    "lr.fit(x,y)\n",
    "print(lr.coef_)\n",
    "print(lr.intercept_)"
   ]
  },
  {
   "cell_type": "code",
   "execution_count": null,
   "id": "9cea77b8-f58e-4972-89ac-1c4e3b7b0001",
   "metadata": {},
   "outputs": [],
   "source": []
  }
 ],
 "metadata": {
  "kernelspec": {
   "display_name": "Python 3 (ipykernel)",
   "language": "python",
   "name": "python3"
  },
  "language_info": {
   "codemirror_mode": {
    "name": "ipython",
    "version": 3
   },
   "file_extension": ".py",
   "mimetype": "text/x-python",
   "name": "python",
   "nbconvert_exporter": "python",
   "pygments_lexer": "ipython3",
   "version": "3.11.7"
  }
 },
 "nbformat": 4,
 "nbformat_minor": 5
}

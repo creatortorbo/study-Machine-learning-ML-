{
 "cells": [
  {
   "cell_type": "markdown",
   "id": "130e2155-104c-4836-b478-eea868ae1ef6",
   "metadata": {},
   "source": [
    "# Tensors "
   ]
  },
  {
   "cell_type": "code",
   "execution_count": 1,
   "id": "2a1a7303-630f-4568-998e-e0f09d655029",
   "metadata": {},
   "outputs": [],
   "source": [
    "# here using the Tensors \n",
    "import numpy as np"
   ]
  },
  {
   "cell_type": "code",
   "execution_count": 2,
   "id": "df7bcb23-4c93-4a6e-ad95-451e67905fba",
   "metadata": {},
   "outputs": [],
   "source": [
    "a = np.array(4)"
   ]
  },
  {
   "cell_type": "code",
   "execution_count": 4,
   "id": "d48ff257-689f-48a4-bd7f-e2911bdf015e",
   "metadata": {},
   "outputs": [
    {
     "data": {
      "text/plain": [
       "0"
      ]
     },
     "execution_count": 4,
     "metadata": {},
     "output_type": "execute_result"
    }
   ],
   "source": [
    "a.ndim"
   ]
  },
  {
   "cell_type": "markdown",
   "id": "d645d7a7-c285-448e-a3b0-a1742a3bbb33",
   "metadata": {},
   "source": [
    "# 1D Tensors "
   ]
  },
  {
   "cell_type": "code",
   "execution_count": 5,
   "id": "5401f7a2-73ed-4703-84e7-3053b52d5cb5",
   "metadata": {},
   "outputs": [],
   "source": [
    "# 1D Tensors \n",
    "arr = np.array([1,2,3,4])"
   ]
  },
  {
   "cell_type": "code",
   "execution_count": 7,
   "id": "80f98178-3aea-4128-bafc-12f14143565a",
   "metadata": {},
   "outputs": [
    {
     "name": "stdout",
     "output_type": "stream",
     "text": [
      "[1 2 3 4]\n"
     ]
    }
   ],
   "source": [
    "print(arr)"
   ]
  },
  {
   "cell_type": "code",
   "execution_count": 8,
   "id": "10d0097c-4288-4d5a-932b-7bb456ee07db",
   "metadata": {},
   "outputs": [
    {
     "data": {
      "text/plain": [
       "1"
      ]
     },
     "execution_count": 8,
     "metadata": {},
     "output_type": "execute_result"
    }
   ],
   "source": [
    "arr.ndim"
   ]
  },
  {
   "cell_type": "markdown",
   "id": "abee1246-20b0-4999-89c6-761972ccab71",
   "metadata": {},
   "source": [
    "# 2D Tensors "
   ]
  },
  {
   "cell_type": "code",
   "execution_count": 10,
   "id": "55601b33-470f-4017-b0b6-0ea135939623",
   "metadata": {},
   "outputs": [
    {
     "data": {
      "text/plain": [
       "array([[1, 2, 3],\n",
       "       [3, 4, 5],\n",
       "       [7, 8, 9]])"
      ]
     },
     "execution_count": 10,
     "metadata": {},
     "output_type": "execute_result"
    }
   ],
   "source": [
    "mat = np.array([[1,2,3],[3,4,5],[7,8,9]])\n",
    "mat"
   ]
  },
  {
   "cell_type": "code",
   "execution_count": 11,
   "id": "f2389292-f3ff-4524-be61-ff0eb8b31a2a",
   "metadata": {},
   "outputs": [
    {
     "data": {
      "text/plain": [
       "2"
      ]
     },
     "execution_count": 11,
     "metadata": {},
     "output_type": "execute_result"
    }
   ],
   "source": [
    "mat.ndim "
   ]
  },
  {
   "cell_type": "code",
   "execution_count": null,
   "id": "4c292dbe-1daf-4fc4-8f5c-f51c62881058",
   "metadata": {},
   "outputs": [],
   "source": []
  }
 ],
 "metadata": {
  "kernelspec": {
   "display_name": "Python 3 (ipykernel)",
   "language": "python",
   "name": "python3"
  },
  "language_info": {
   "codemirror_mode": {
    "name": "ipython",
    "version": 3
   },
   "file_extension": ".py",
   "mimetype": "text/x-python",
   "name": "python",
   "nbconvert_exporter": "python",
   "pygments_lexer": "ipython3",
   "version": "3.11.5"
  }
 },
 "nbformat": 4,
 "nbformat_minor": 5
}

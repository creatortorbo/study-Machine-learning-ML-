{
 "cells": [
  {
   "cell_type": "code",
   "execution_count": 2,
   "id": "2a285eda-5e97-49ca-b70c-e6950c391f18",
   "metadata": {},
   "outputs": [],
   "source": [
    "import numpy as np\n",
    "import pandas as pd"
   ]
  },
  {
   "cell_type": "code",
   "execution_count": 4,
   "id": "54103cd9-831d-41a9-ab5c-3cb87e0b3f38",
   "metadata": {},
   "outputs": [],
   "source": [
    "np.random.seed(23)"
   ]
  },
  {
   "cell_type": "code",
   "execution_count": 5,
   "id": "90d7ef31-3c6b-4385-a357-d3ea975a5d51",
   "metadata": {},
   "outputs": [],
   "source": [
    "mu_vec1 = np.array([0,0,0])\n",
    "cov_mat1 = np.array([[1,0,0],[0,1,0],[0,0,1]])"
   ]
  },
  {
   "cell_type": "code",
   "execution_count": 10,
   "id": "62a0d2f7-8f5a-432c-b09d-b1531b1912ab",
   "metadata": {},
   "outputs": [],
   "source": [
    "class_smaple = np.random.multivariate_normal(mu_vec1,cov_mat1,20)"
   ]
  },
  {
   "cell_type": "code",
   "execution_count": 11,
   "id": "96ffd146-a83e-4ec5-a603-21cd3aacba3a",
   "metadata": {},
   "outputs": [
    {
     "data": {
      "text/plain": [
       "array([[ 0.66698806,  0.02581308, -0.77761941],\n",
       "       [ 0.94863382,  0.70167179, -1.05108156],\n",
       "       [-0.36754812, -1.13745969, -1.32214752],\n",
       "       [ 1.77225828, -0.34745899,  0.67014016],\n",
       "       [ 0.32227152,  0.06034293, -1.04345   ],\n",
       "       [-1.00994188,  0.44173637,  1.12887685],\n",
       "       [-1.83806777, -0.93876863, -0.20184052],\n",
       "       [ 1.04537128,  0.53816197,  0.81211867],\n",
       "       [ 0.2411063 , -0.95250953, -0.13626676],\n",
       "       [ 1.26724821,  0.17363364, -1.22325477],\n",
       "       [ 1.41531998,  0.45771098,  0.72887584],\n",
       "       [ 1.96843473, -0.54778801, -0.67941827],\n",
       "       [-2.50623032,  0.14696049,  0.60619549],\n",
       "       [-0.02253889,  0.01342226,  0.93594489],\n",
       "       [ 0.42062266,  0.41161964, -0.07132392],\n",
       "       [-0.04543758,  1.04088597, -0.09403473],\n",
       "       [-0.42084395, -0.55198856, -0.12109755],\n",
       "       [ 0.19014136,  0.51213739,  0.13153847],\n",
       "       [-0.33161712, -1.63238628,  0.61911407],\n",
       "       [-0.99257378, -0.16134639,  1.19240433]])"
      ]
     },
     "execution_count": 11,
     "metadata": {},
     "output_type": "execute_result"
    }
   ],
   "source": [
    "class_smaple"
   ]
  },
  {
   "cell_type": "code",
   "execution_count": null,
   "id": "20dd7428-5812-40cf-9b25-a6249e649a88",
   "metadata": {},
   "outputs": [],
   "source": []
  }
 ],
 "metadata": {
  "kernelspec": {
   "display_name": "Python 3 (ipykernel)",
   "language": "python",
   "name": "python3"
  },
  "language_info": {
   "codemirror_mode": {
    "name": "ipython",
    "version": 3
   },
   "file_extension": ".py",
   "mimetype": "text/x-python",
   "name": "python",
   "nbconvert_exporter": "python",
   "pygments_lexer": "ipython3",
   "version": "3.11.5"
  }
 },
 "nbformat": 4,
 "nbformat_minor": 5
}
